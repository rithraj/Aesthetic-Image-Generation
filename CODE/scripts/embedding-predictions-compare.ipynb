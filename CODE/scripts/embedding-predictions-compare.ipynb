{
 "cells": [
  {
   "cell_type": "code",
   "execution_count": 1,
   "metadata": {},
   "outputs": [],
   "source": [
    "import numpy"
   ]
  },
  {
   "cell_type": "code",
   "execution_count": 2,
   "metadata": {},
   "outputs": [
    {
     "name": "stdout",
     "output_type": "stream",
     "text": [
      "['images_name', 'images_emb']\n"
     ]
    }
   ],
   "source": [
    "# Load part-000001-image-emb.npz\n",
    "data = numpy.load('part-000001-image-emb.npz')\n",
    "print(data.files)"
   ]
  },
  {
   "cell_type": "code",
   "execution_count": 7,
   "metadata": {},
   "outputs": [
    {
     "name": "stdout",
     "output_type": "stream",
     "text": [
      "['ec9b5e2c-028e-48ac-8857-a52814fd2a06.png'\n",
      " 'cd2a819b-faff-410a-af58-b371bd03c587.png'\n",
      " 'baf9a21b-cdd0-4302-9fef-8435d7253981.png'\n",
      " 'd64b60b0-e214-4ab4-a7f6-0172460201f4.png'\n",
      " 'c29ea381-ad6a-46b4-ada1-4224a7cbb676.png'\n",
      " '997bb945-628d-4724-b370-b84de974a19f.png'\n",
      " '22ed4131-baf7-4fd7-86b6-6fb3aa6a2f41.png'\n",
      " 'f772432d-dc4c-4df7-8000-5fc79a6a9d1e.png'\n",
      " '08e8ca79-9c10-4152-b6aa-a285b6eec951.png'\n",
      " '28580751-a390-45e5-9488-308bace4449a.png']\n",
      "[[-0.08689305 -0.6011399   0.5746658  ... -0.12750852  0.21774003\n",
      "   0.14384016]\n",
      " [-0.14891547  0.44718868 -0.19561127 ... -0.1569279   0.0134112\n",
      "   0.13083003]\n",
      " [ 0.37610888 -0.99584645  0.38861388 ... -0.06400572 -0.12671857\n",
      "   0.4136918 ]\n",
      " ...\n",
      " [ 0.40303877 -0.3843845   0.49220428 ...  0.31955713  0.27834767\n",
      "  -0.30063647]\n",
      " [ 0.6303627   0.67158204  0.2740119  ... -0.22664335 -0.20488068\n",
      "   0.4047125 ]\n",
      " [ 0.27547514 -0.27523568  0.32514423 ...  0.24313942  0.5778177\n",
      "   0.44546008]]\n"
     ]
    }
   ],
   "source": [
    "# Print the first 10 rows of first file\n",
    "images_name = data['images_name']\n",
    "images_emb = data['images_emb']\n",
    "print(images_name[:10])\n",
    "print(images_emb[:10])\n"
   ]
  },
  {
   "cell_type": "code",
   "execution_count": 8,
   "metadata": {},
   "outputs": [
    {
     "name": "stdout",
     "output_type": "stream",
     "text": [
      "1000\n",
      "['339c072b-92e9-4c85-99bb-d015a5cefe59.png,70.36763000488281', '7c680b90-b760-4c88-9511-977cb5cf13f1.png,73.96912384033203', '223c130c-fd11-48e9-847c-3bad802e6922.png,68.16466522216797', '60a6a8fc-2b5c-4257-bdf5-0681dbf53049.png,56.566627502441406', '08d7ee53-269f-44c2-aae7-dc1433a690b3.png,63.27399826049805', '99201918-954f-4da3-ae2b-1fa4a1b35120.png,67.37865447998047', '25d21102-9a81-4376-a877-3de731efe9aa.png,60.32196044921875', '177918b1-c468-4cd3-ab55-a2e5588ec40f.png,75.3040542602539', '1fd6a2f6-f8c5-4288-bb4b-921546d8c892.png,76.11975860595703', '787b7f7b-ffe7-40d4-8771-d3f3e43c6e7b.png,54.100704193115234']\n"
     ]
    }
   ],
   "source": [
    "# Check if all of the images_name names are in predictions-part-000001.txt\n",
    "predictions = open('predictions-part-000001.txt', 'r')\n",
    "predictions = predictions.read()\n",
    "predictions = predictions.split('\\n')\n",
    "predictions = predictions[:-1]\n",
    "print(len(predictions))\n",
    "print(predictions[:10])\n"
   ]
  },
  {
   "cell_type": "code",
   "execution_count": 9,
   "metadata": {},
   "outputs": [
    {
     "name": "stdout",
     "output_type": "stream",
     "text": [
      "1000\n",
      "['339c072b-92e9-4c85-99bb-d015a5cefe59.png', '7c680b90-b760-4c88-9511-977cb5cf13f1.png', '223c130c-fd11-48e9-847c-3bad802e6922.png', '60a6a8fc-2b5c-4257-bdf5-0681dbf53049.png', '08d7ee53-269f-44c2-aae7-dc1433a690b3.png', '99201918-954f-4da3-ae2b-1fa4a1b35120.png', '25d21102-9a81-4376-a877-3de731efe9aa.png', '177918b1-c468-4cd3-ab55-a2e5588ec40f.png', '1fd6a2f6-f8c5-4288-bb4b-921546d8c892.png', '787b7f7b-ffe7-40d4-8771-d3f3e43c6e7b.png']\n"
     ]
    }
   ],
   "source": [
    "# Remove the part after the comma for each image name in predictions\n",
    "predictions = [x.split(',')[0] for x in predictions]\n",
    "print(len(predictions))\n",
    "print(predictions[:10])"
   ]
  },
  {
   "cell_type": "code",
   "execution_count": 14,
   "metadata": {},
   "outputs": [
    {
     "name": "stdout",
     "output_type": "stream",
     "text": [
      "0\n"
     ]
    }
   ],
   "source": [
    "# Check if all of the images_name names are in predictions-part-000001.txt\n",
    "print(len(set(images_name) - set(predictions)))"
   ]
  },
  {
   "cell_type": "code",
   "execution_count": null,
   "metadata": {},
   "outputs": [],
   "source": []
  }
 ],
 "metadata": {
  "kernelspec": {
   "display_name": "Python 3",
   "language": "python",
   "name": "python3"
  },
  "language_info": {
   "codemirror_mode": {
    "name": "ipython",
    "version": 3
   },
   "file_extension": ".py",
   "mimetype": "text/x-python",
   "name": "python",
   "nbconvert_exporter": "python",
   "pygments_lexer": "ipython3",
   "version": "3.8.18"
  }
 },
 "nbformat": 4,
 "nbformat_minor": 2
}
