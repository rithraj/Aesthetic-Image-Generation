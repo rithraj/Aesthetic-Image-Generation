{
  "cells": [
    {
      "cell_type": "code",
      "execution_count": 2,
      "metadata": {
        "colab": {
          "background_save": true
        },
        "id": "BHQq_GKj8ell"
      },
      "outputs": [],
      "source": [
        "import numpy as np\n",
        "import json"
      ]
    },
    {
      "cell_type": "code",
      "execution_count": 3,
      "metadata": {
        "colab": {
          "base_uri": "https://localhost:8080/"
        },
        "id": "UNk1jMU0_qlN",
        "outputId": "2d7f6783-368f-4268-84e4-163c2a562edd"
      },
      "outputs": [
        {
          "name": "stdout",
          "output_type": "stream",
          "text": [
            "Requirement already satisfied: umap-learn==0.3.10 in /Users/justinblalock/miniconda3/envs/csefinalproject/lib/python3.11/site-packages (0.3.10)\n",
            "Requirement already satisfied: numpy>=1.13 in /Users/justinblalock/miniconda3/envs/csefinalproject/lib/python3.11/site-packages (from umap-learn==0.3.10) (1.26.2)\n",
            "Requirement already satisfied: scikit-learn>=0.16 in /Users/justinblalock/miniconda3/envs/csefinalproject/lib/python3.11/site-packages (from umap-learn==0.3.10) (1.3.2)\n",
            "Requirement already satisfied: scipy>=0.19 in /Users/justinblalock/miniconda3/envs/csefinalproject/lib/python3.11/site-packages (from umap-learn==0.3.10) (1.11.4)\n",
            "Requirement already satisfied: numba>=0.37 in /Users/justinblalock/miniconda3/envs/csefinalproject/lib/python3.11/site-packages (from umap-learn==0.3.10) (0.58.1)\n",
            "Requirement already satisfied: llvmlite<0.42,>=0.41.0dev0 in /Users/justinblalock/miniconda3/envs/csefinalproject/lib/python3.11/site-packages (from numba>=0.37->umap-learn==0.3.10) (0.41.1)\n",
            "Requirement already satisfied: joblib>=1.1.1 in /Users/justinblalock/miniconda3/envs/csefinalproject/lib/python3.11/site-packages (from scikit-learn>=0.16->umap-learn==0.3.10) (1.3.2)\n",
            "Requirement already satisfied: threadpoolctl>=2.0.0 in /Users/justinblalock/miniconda3/envs/csefinalproject/lib/python3.11/site-packages (from scikit-learn>=0.16->umap-learn==0.3.10) (3.2.0)\n"
          ]
        }
      ],
      "source": [
        "!pip install 'umap-learn==0.3.10'"
      ]
    },
    {
      "cell_type": "code",
      "execution_count": 4,
      "metadata": {
        "id": "NNZB4YGU-G5S"
      },
      "outputs": [],
      "source": [
        "import umap"
      ]
    },
    {
      "cell_type": "code",
      "execution_count": 7,
      "metadata": {
        "id": "P_nNiThZ8ftQ"
      },
      "outputs": [
        {
          "ename": "SystemError",
          "evalue": "CPUDispatcher(<function optimize_layout at 0x177286340>) returned a result with an exception set",
          "output_type": "error",
          "traceback": [
            "\u001b[0;31m---------------------------------------------------------------------------\u001b[0m",
            "\u001b[0;31mKeyboardInterrupt\u001b[0m                         Traceback (most recent call last)",
            "File \u001b[0;32m~/miniconda3/envs/csefinalproject/lib/python3.11/site-packages/numba/core/serialize.py:30\u001b[0m, in \u001b[0;36m_numba_unpickle\u001b[0;34m(address, bytedata, hashed)\u001b[0m\n\u001b[1;32m     27\u001b[0m _unpickled_memo \u001b[39m=\u001b[39m {}\n\u001b[0;32m---> 30\u001b[0m \u001b[39mdef\u001b[39;00m \u001b[39m_numba_unpickle\u001b[39m(address, bytedata, hashed):\n\u001b[1;32m     31\u001b[0m \u001b[39m    \u001b[39m\u001b[39m\"\"\"Used by `numba_unpickle` from _helperlib.c\u001b[39;00m\n\u001b[1;32m     32\u001b[0m \n\u001b[1;32m     33\u001b[0m \u001b[39m    Parameters\u001b[39;00m\n\u001b[0;32m   (...)\u001b[0m\n\u001b[1;32m     42\u001b[0m \u001b[39m        unpickled object\u001b[39;00m\n\u001b[1;32m     43\u001b[0m \u001b[39m    \"\"\"\u001b[39;00m\n",
            "\u001b[0;31mKeyboardInterrupt\u001b[0m: ",
            "\nThe above exception was the direct cause of the following exception:\n",
            "\u001b[0;31mSystemError\u001b[0m                               Traceback (most recent call last)",
            "\u001b[1;32m/Users/justinblalock/Desktop/Fall2023/CSE6242/project_code/CSE6242/src/data/umap.ipynb Cell 4\u001b[0m line \u001b[0;36m1\n\u001b[1;32m     <a href='vscode-notebook-cell:/Users/justinblalock/Desktop/Fall2023/CSE6242/project_code/CSE6242/src/data/umap.ipynb#X15sZmlsZQ%3D%3D?line=9'>10</a>\u001b[0m   \u001b[39mwith\u001b[39;00m \u001b[39mopen\u001b[39m(datadir \u001b[39m+\u001b[39m \u001b[39m'\u001b[39m\u001b[39m/\u001b[39m\u001b[39m'\u001b[39m \u001b[39m+\u001b[39m outfile, \u001b[39m\"\u001b[39m\u001b[39mw\u001b[39m\u001b[39m\"\u001b[39m) \u001b[39mas\u001b[39;00m outfile:\n\u001b[1;32m     <a href='vscode-notebook-cell:/Users/justinblalock/Desktop/Fall2023/CSE6242/project_code/CSE6242/src/data/umap.ipynb#X15sZmlsZQ%3D%3D?line=10'>11</a>\u001b[0m     outfile\u001b[39m.\u001b[39mwrite(obj)\n\u001b[0;32m---> <a href='vscode-notebook-cell:/Users/justinblalock/Desktop/Fall2023/CSE6242/project_code/CSE6242/src/data/umap.ipynb#X15sZmlsZQ%3D%3D?line=13'>14</a>\u001b[0m umap_and_save(\u001b[39m'\u001b[39;49m\u001b[39m.\u001b[39;49m\u001b[39m'\u001b[39;49m, \u001b[39m'\u001b[39;49m\u001b[39mmaster.json\u001b[39;49m\u001b[39m'\u001b[39;49m, \u001b[39m1\u001b[39;49m, \u001b[39m101\u001b[39;49m)\n",
            "\u001b[1;32m/Users/justinblalock/Desktop/Fall2023/CSE6242/project_code/CSE6242/src/data/umap.ipynb Cell 4\u001b[0m line \u001b[0;36m6\n\u001b[1;32m      <a href='vscode-notebook-cell:/Users/justinblalock/Desktop/Fall2023/CSE6242/project_code/CSE6242/src/data/umap.ipynb#X15sZmlsZQ%3D%3D?line=3'>4</a>\u001b[0m arr \u001b[39m=\u001b[39m np\u001b[39m.\u001b[39mload(\u001b[39mf\u001b[39m\u001b[39m\"\u001b[39m\u001b[39m../../data/img-emb-2m/part-\u001b[39m\u001b[39m{\u001b[39;00m\u001b[39mstr\u001b[39m(i)\u001b[39m.\u001b[39mzfill(\u001b[39m6\u001b[39m)\u001b[39m}\u001b[39;00m\u001b[39m-image-emb.npz\u001b[39m\u001b[39m\"\u001b[39m)\n\u001b[1;32m      <a href='vscode-notebook-cell:/Users/justinblalock/Desktop/Fall2023/CSE6242/project_code/CSE6242/src/data/umap.ipynb#X15sZmlsZQ%3D%3D?line=4'>5</a>\u001b[0m reducer \u001b[39m=\u001b[39m umap\u001b[39m.\u001b[39mUMAP()\n\u001b[0;32m----> <a href='vscode-notebook-cell:/Users/justinblalock/Desktop/Fall2023/CSE6242/project_code/CSE6242/src/data/umap.ipynb#X15sZmlsZQ%3D%3D?line=5'>6</a>\u001b[0m reduced \u001b[39m=\u001b[39m reducer\u001b[39m.\u001b[39;49mfit_transform(arr[\u001b[39m'\u001b[39;49m\u001b[39mimages_emb\u001b[39;49m\u001b[39m'\u001b[39;49m])\n\u001b[1;32m      <a href='vscode-notebook-cell:/Users/justinblalock/Desktop/Fall2023/CSE6242/project_code/CSE6242/src/data/umap.ipynb#X15sZmlsZQ%3D%3D?line=6'>7</a>\u001b[0m dc \u001b[39m=\u001b[39m \u001b[39mdict\u001b[39m(\u001b[39mzip\u001b[39m(arr[\u001b[39m'\u001b[39m\u001b[39mimages_name\u001b[39m\u001b[39m'\u001b[39m]\u001b[39m.\u001b[39mtolist(), reduced\u001b[39m.\u001b[39mtolist()))\n\u001b[1;32m      <a href='vscode-notebook-cell:/Users/justinblalock/Desktop/Fall2023/CSE6242/project_code/CSE6242/src/data/umap.ipynb#X15sZmlsZQ%3D%3D?line=7'>8</a>\u001b[0m master\u001b[39m.\u001b[39mupdate(dc)\n",
            "File \u001b[0;32m~/miniconda3/envs/csefinalproject/lib/python3.11/site-packages/umap/umap_.py:1598\u001b[0m, in \u001b[0;36mUMAP.fit_transform\u001b[0;34m(self, X, y)\u001b[0m\n\u001b[1;32m   1577\u001b[0m \u001b[39mdef\u001b[39;00m \u001b[39mfit_transform\u001b[39m(\u001b[39mself\u001b[39m, X, y\u001b[39m=\u001b[39m\u001b[39mNone\u001b[39;00m):\n\u001b[1;32m   1578\u001b[0m \u001b[39m    \u001b[39m\u001b[39m\"\"\"Fit X into an embedded space and return that transformed\u001b[39;00m\n\u001b[1;32m   1579\u001b[0m \u001b[39m    output.\u001b[39;00m\n\u001b[1;32m   1580\u001b[0m \n\u001b[0;32m   (...)\u001b[0m\n\u001b[1;32m   1596\u001b[0m \u001b[39m        Embedding of the training data in low-dimensional space.\u001b[39;00m\n\u001b[1;32m   1597\u001b[0m \u001b[39m    \"\"\"\u001b[39;00m\n\u001b[0;32m-> 1598\u001b[0m     \u001b[39mself\u001b[39;49m\u001b[39m.\u001b[39;49mfit(X, y)\n\u001b[1;32m   1599\u001b[0m     \u001b[39mreturn\u001b[39;00m \u001b[39mself\u001b[39m\u001b[39m.\u001b[39membedding_\n",
            "File \u001b[0;32m~/miniconda3/envs/csefinalproject/lib/python3.11/site-packages/umap/umap_.py:1553\u001b[0m, in \u001b[0;36mUMAP.fit\u001b[0;34m(self, X, y)\u001b[0m\n\u001b[1;32m   1550\u001b[0m \u001b[39mif\u001b[39;00m \u001b[39mself\u001b[39m\u001b[39m.\u001b[39mverbose:\n\u001b[1;32m   1551\u001b[0m     \u001b[39mprint\u001b[39m(ts(), \u001b[39m\"\u001b[39m\u001b[39mConstruct embedding\u001b[39m\u001b[39m\"\u001b[39m)\n\u001b[0;32m-> 1553\u001b[0m \u001b[39mself\u001b[39m\u001b[39m.\u001b[39membedding_ \u001b[39m=\u001b[39m simplicial_set_embedding(\n\u001b[1;32m   1554\u001b[0m     \u001b[39mself\u001b[39;49m\u001b[39m.\u001b[39;49m_raw_data,\n\u001b[1;32m   1555\u001b[0m     \u001b[39mself\u001b[39;49m\u001b[39m.\u001b[39;49mgraph_,\n\u001b[1;32m   1556\u001b[0m     \u001b[39mself\u001b[39;49m\u001b[39m.\u001b[39;49mn_components,\n\u001b[1;32m   1557\u001b[0m     \u001b[39mself\u001b[39;49m\u001b[39m.\u001b[39;49m_initial_alpha,\n\u001b[1;32m   1558\u001b[0m     \u001b[39mself\u001b[39;49m\u001b[39m.\u001b[39;49m_a,\n\u001b[1;32m   1559\u001b[0m     \u001b[39mself\u001b[39;49m\u001b[39m.\u001b[39;49m_b,\n\u001b[1;32m   1560\u001b[0m     \u001b[39mself\u001b[39;49m\u001b[39m.\u001b[39;49mrepulsion_strength,\n\u001b[1;32m   1561\u001b[0m     \u001b[39mself\u001b[39;49m\u001b[39m.\u001b[39;49mnegative_sample_rate,\n\u001b[1;32m   1562\u001b[0m     n_epochs,\n\u001b[1;32m   1563\u001b[0m     init,\n\u001b[1;32m   1564\u001b[0m     random_state,\n\u001b[1;32m   1565\u001b[0m     \u001b[39mself\u001b[39;49m\u001b[39m.\u001b[39;49mmetric,\n\u001b[1;32m   1566\u001b[0m     \u001b[39mself\u001b[39;49m\u001b[39m.\u001b[39;49m_metric_kwds,\n\u001b[1;32m   1567\u001b[0m     \u001b[39mself\u001b[39;49m\u001b[39m.\u001b[39;49mverbose,\n\u001b[1;32m   1568\u001b[0m )\n\u001b[1;32m   1570\u001b[0m \u001b[39mif\u001b[39;00m \u001b[39mself\u001b[39m\u001b[39m.\u001b[39mverbose:\n\u001b[1;32m   1571\u001b[0m     \u001b[39mprint\u001b[39m(ts() \u001b[39m+\u001b[39m \u001b[39m\"\u001b[39m\u001b[39m Finished embedding\u001b[39m\u001b[39m\"\u001b[39m)\n",
            "File \u001b[0;32m~/miniconda3/envs/csefinalproject/lib/python3.11/site-packages/umap/umap_.py:991\u001b[0m, in \u001b[0;36msimplicial_set_embedding\u001b[0;34m(data, graph, n_components, initial_alpha, a, b, gamma, negative_sample_rate, n_epochs, init, random_state, metric, metric_kwds, verbose)\u001b[0m\n\u001b[1;32m    988\u001b[0m tail \u001b[39m=\u001b[39m graph\u001b[39m.\u001b[39mcol\n\u001b[1;32m    990\u001b[0m rng_state \u001b[39m=\u001b[39m random_state\u001b[39m.\u001b[39mrandint(INT32_MIN, INT32_MAX, \u001b[39m3\u001b[39m)\u001b[39m.\u001b[39mastype(np\u001b[39m.\u001b[39mint64)\n\u001b[0;32m--> 991\u001b[0m embedding \u001b[39m=\u001b[39m optimize_layout(\n\u001b[1;32m    992\u001b[0m     embedding,\n\u001b[1;32m    993\u001b[0m     embedding,\n\u001b[1;32m    994\u001b[0m     head,\n\u001b[1;32m    995\u001b[0m     tail,\n\u001b[1;32m    996\u001b[0m     n_epochs,\n\u001b[1;32m    997\u001b[0m     n_vertices,\n\u001b[1;32m    998\u001b[0m     epochs_per_sample,\n\u001b[1;32m    999\u001b[0m     a,\n\u001b[1;32m   1000\u001b[0m     b,\n\u001b[1;32m   1001\u001b[0m     rng_state,\n\u001b[1;32m   1002\u001b[0m     gamma,\n\u001b[1;32m   1003\u001b[0m     initial_alpha,\n\u001b[1;32m   1004\u001b[0m     negative_sample_rate,\n\u001b[1;32m   1005\u001b[0m     verbose\u001b[39m=\u001b[39;49mverbose,\n\u001b[1;32m   1006\u001b[0m )\n\u001b[1;32m   1008\u001b[0m \u001b[39mreturn\u001b[39;00m embedding\n",
            "\u001b[0;31mSystemError\u001b[0m: CPUDispatcher(<function optimize_layout at 0x177286340>) returned a result with an exception set"
          ]
        }
      ],
      "source": [
        "def umap_and_save(datadir, outfile, start, end):\n",
        "  master = {}\n",
        "  for i in range(start, end):\n",
        "    arr = np.load(f\"part-{str(i).zfill(6)}-image-emb.npz\")\n",
        "    reducer = umap.UMAP()\n",
        "    reduced = reducer.fit_transform(arr['images_emb'])\n",
        "    dc = {'images_name': arr['images_name'].tolist(), 'images_emb': reduced.tolist()}\n",
        "    master[i] = dc\n",
        "  obj = json.dumps(master)\n",
        "  with open(datadir + '/' + outfile, \"w\") as outfile:\n",
        "    outfile.write(obj)\n",
        "\n",
        "\n",
        "umap_and_save('img-emb-master', 'master.json', 1, 101)\n",
        "\n",
        "# def umap_and_save(datadir, outfile, start, end):\n",
        "#   master = {}\n",
        "#   for i in range(start, end):\n",
        "#     arr = np.load(f\"../../data/img-emb-2m/part-{str(i).zfill(6)}-image-emb.npz\")\n",
        "#     reducer = umap.UMAP()\n",
        "#     reduced = reducer.fit_transform(arr['images_emb'])\n",
        "#     dc = dict(zip(arr['images_name'].tolist(), reduced.tolist()))\n",
        "#     master.update(dc)\n",
        "#   obj = json.dumps(master)\n",
        "#   with open(datadir + '/' + outfile, \"w\") as outfile:\n",
        "#     outfile.write(obj)\n",
        "\n",
        "\n",
        "# umap_and_save('.', 'master.json', 1, 101)"
      ]
    },
    {
      "cell_type": "code",
      "execution_count": null,
      "metadata": {},
      "outputs": [],
      "source": []
    }
  ],
  "metadata": {
    "colab": {
      "provenance": []
    },
    "kernelspec": {
      "display_name": "Python 3",
      "name": "python3"
    },
    "language_info": {
      "codemirror_mode": {
        "name": "ipython",
        "version": 3
      },
      "file_extension": ".py",
      "mimetype": "text/x-python",
      "name": "python",
      "nbconvert_exporter": "python",
      "pygments_lexer": "ipython3",
      "version": "3.11.5"
    }
  },
  "nbformat": 4,
  "nbformat_minor": 0
}
