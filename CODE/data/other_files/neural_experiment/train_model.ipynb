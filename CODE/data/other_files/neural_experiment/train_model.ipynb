{
 "cells": [
  {
   "cell_type": "code",
   "execution_count": 1,
   "metadata": {},
   "outputs": [
    {
     "name": "stdout",
     "output_type": "stream",
     "text": [
      "Using TensorFlow backend\n"
     ]
    }
   ],
   "source": [
    "import pandas as pd\n",
    "import json\n",
    "import nltk\n",
    "import re\n",
    "from sklearn.feature_extraction.text import TfidfVectorizer\n",
    "from sklearn.model_selection import train_test_split\n",
    "from sklearn.linear_model import LogisticRegression, SGDRegressor\n",
    "from sklearn.metrics import mean_squared_error, accuracy_score, r2_score, mean_absolute_error\n",
    "import torch\n",
    "import torch.nn as nn\n",
    "import torch.nn.functional as F\n",
    "import torch.optim as optim\n",
    "import numpy as np\n",
    "import autokeras as ak\n",
    "import tensorflow as tf\n",
    "import tensorflowjs as tfjs\n",
    "import tf2onnx"
   ]
  },
  {
   "cell_type": "code",
   "execution_count": 2,
   "metadata": {},
   "outputs": [
    {
     "data": {
      "text/html": [
       "<div>\n",
       "<style scoped>\n",
       "    .dataframe tbody tr th:only-of-type {\n",
       "        vertical-align: middle;\n",
       "    }\n",
       "\n",
       "    .dataframe tbody tr th {\n",
       "        vertical-align: top;\n",
       "    }\n",
       "\n",
       "    .dataframe thead th {\n",
       "        text-align: right;\n",
       "    }\n",
       "</style>\n",
       "<table border=\"1\" class=\"dataframe\">\n",
       "  <thead>\n",
       "    <tr style=\"text-align: right;\">\n",
       "      <th></th>\n",
       "      <th>x</th>\n",
       "      <th>y</th>\n",
       "      <th>id</th>\n",
       "      <th>prompt</th>\n",
       "      <th>part_id</th>\n",
       "      <th>seed</th>\n",
       "      <th>step</th>\n",
       "      <th>cfg</th>\n",
       "      <th>sampler</th>\n",
       "      <th>width</th>\n",
       "      <th>height</th>\n",
       "      <th>user_name</th>\n",
       "      <th>image_nsfw</th>\n",
       "      <th>prompt_nsfw</th>\n",
       "      <th>iaa_score</th>\n",
       "    </tr>\n",
       "  </thead>\n",
       "  <tbody>\n",
       "    <tr>\n",
       "      <th>0</th>\n",
       "      <td>0.639129</td>\n",
       "      <td>-0.256337</td>\n",
       "      <td>ec9b5e2c-028e-48ac-8857-a52814fd2a06.png</td>\n",
       "      <td>doom eternal, game concept art, veins and worm...</td>\n",
       "      <td>1</td>\n",
       "      <td>3312523387</td>\n",
       "      <td>50</td>\n",
       "      <td>7.0</td>\n",
       "      <td>3</td>\n",
       "      <td>512</td>\n",
       "      <td>512</td>\n",
       "      <td>596a88297105687d60162aaef5c077407170fda8ebf59f...</td>\n",
       "      <td>0.156454</td>\n",
       "      <td>0.008112</td>\n",
       "      <td>70.498428</td>\n",
       "    </tr>\n",
       "    <tr>\n",
       "      <th>1</th>\n",
       "      <td>-0.742775</td>\n",
       "      <td>6.939980</td>\n",
       "      <td>cd2a819b-faff-410a-af58-b371bd03c587.png</td>\n",
       "      <td>a beautiful photorealistic painting of cemeter...</td>\n",
       "      <td>1</td>\n",
       "      <td>3602562681</td>\n",
       "      <td>50</td>\n",
       "      <td>15.0</td>\n",
       "      <td>8</td>\n",
       "      <td>512</td>\n",
       "      <td>896</td>\n",
       "      <td>edbb4de830541f34a8f7d363bf8e375a4e65e6abed47ae...</td>\n",
       "      <td>0.084332</td>\n",
       "      <td>0.000207</td>\n",
       "      <td>69.245010</td>\n",
       "    </tr>\n",
       "    <tr>\n",
       "      <th>2</th>\n",
       "      <td>0.507401</td>\n",
       "      <td>-0.059566</td>\n",
       "      <td>baf9a21b-cdd0-4302-9fef-8435d7253981.png</td>\n",
       "      <td>doom eternal, evangelion, game concept art, ve...</td>\n",
       "      <td>1</td>\n",
       "      <td>917080921</td>\n",
       "      <td>50</td>\n",
       "      <td>7.0</td>\n",
       "      <td>3</td>\n",
       "      <td>512</td>\n",
       "      <td>512</td>\n",
       "      <td>596a88297105687d60162aaef5c077407170fda8ebf59f...</td>\n",
       "      <td>0.534737</td>\n",
       "      <td>0.005789</td>\n",
       "      <td>74.754585</td>\n",
       "    </tr>\n",
       "    <tr>\n",
       "      <th>3</th>\n",
       "      <td>0.698210</td>\n",
       "      <td>-0.035485</td>\n",
       "      <td>d64b60b0-e214-4ab4-a7f6-0172460201f4.png</td>\n",
       "      <td>doom eternal, metro exodus, game concept art, ...</td>\n",
       "      <td>1</td>\n",
       "      <td>1006826059</td>\n",
       "      <td>50</td>\n",
       "      <td>7.0</td>\n",
       "      <td>3</td>\n",
       "      <td>512</td>\n",
       "      <td>512</td>\n",
       "      <td>596a88297105687d60162aaef5c077407170fda8ebf59f...</td>\n",
       "      <td>0.266063</td>\n",
       "      <td>0.005960</td>\n",
       "      <td>72.161064</td>\n",
       "    </tr>\n",
       "    <tr>\n",
       "      <th>4</th>\n",
       "      <td>-0.496238</td>\n",
       "      <td>7.082948</td>\n",
       "      <td>c29ea381-ad6a-46b4-ada1-4224a7cbb676.png</td>\n",
       "      <td>industrial architecture by zack snyder, atlant...</td>\n",
       "      <td>1</td>\n",
       "      <td>1609651727</td>\n",
       "      <td>50</td>\n",
       "      <td>15.0</td>\n",
       "      <td>8</td>\n",
       "      <td>512</td>\n",
       "      <td>896</td>\n",
       "      <td>edbb4de830541f34a8f7d363bf8e375a4e65e6abed47ae...</td>\n",
       "      <td>0.109691</td>\n",
       "      <td>0.000977</td>\n",
       "      <td>63.639427</td>\n",
       "    </tr>\n",
       "  </tbody>\n",
       "</table>\n",
       "</div>"
      ],
      "text/plain": [
       "          x         y                                        id  \\\n",
       "0  0.639129 -0.256337  ec9b5e2c-028e-48ac-8857-a52814fd2a06.png   \n",
       "1 -0.742775  6.939980  cd2a819b-faff-410a-af58-b371bd03c587.png   \n",
       "2  0.507401 -0.059566  baf9a21b-cdd0-4302-9fef-8435d7253981.png   \n",
       "3  0.698210 -0.035485  d64b60b0-e214-4ab4-a7f6-0172460201f4.png   \n",
       "4 -0.496238  7.082948  c29ea381-ad6a-46b4-ada1-4224a7cbb676.png   \n",
       "\n",
       "                                              prompt  part_id        seed  \\\n",
       "0  doom eternal, game concept art, veins and worm...        1  3312523387   \n",
       "1  a beautiful photorealistic painting of cemeter...        1  3602562681   \n",
       "2  doom eternal, evangelion, game concept art, ve...        1   917080921   \n",
       "3  doom eternal, metro exodus, game concept art, ...        1  1006826059   \n",
       "4  industrial architecture by zack snyder, atlant...        1  1609651727   \n",
       "\n",
       "   step   cfg  sampler  width  height  \\\n",
       "0    50   7.0        3    512     512   \n",
       "1    50  15.0        8    512     896   \n",
       "2    50   7.0        3    512     512   \n",
       "3    50   7.0        3    512     512   \n",
       "4    50  15.0        8    512     896   \n",
       "\n",
       "                                           user_name  image_nsfw  prompt_nsfw  \\\n",
       "0  596a88297105687d60162aaef5c077407170fda8ebf59f...    0.156454     0.008112   \n",
       "1  edbb4de830541f34a8f7d363bf8e375a4e65e6abed47ae...    0.084332     0.000207   \n",
       "2  596a88297105687d60162aaef5c077407170fda8ebf59f...    0.534737     0.005789   \n",
       "3  596a88297105687d60162aaef5c077407170fda8ebf59f...    0.266063     0.005960   \n",
       "4  edbb4de830541f34a8f7d363bf8e375a4e65e6abed47ae...    0.109691     0.000977   \n",
       "\n",
       "   iaa_score  \n",
       "0  70.498428  \n",
       "1  69.245010  \n",
       "2  74.754585  \n",
       "3  72.161064  \n",
       "4  63.639427  "
      ]
     },
     "execution_count": 2,
     "metadata": {},
     "output_type": "execute_result"
    }
   ],
   "source": [
    "df = None\n",
    "with open('../../src/data/master-search.json') as json_file:\n",
    "    df = json.load(json_file)\n",
    "rows = []\n",
    "for k,v in df.items():\n",
    "    rows.append(v)\n",
    "df = pd.DataFrame(rows)\n",
    "df.head()"
   ]
  },
  {
   "cell_type": "code",
   "execution_count": 3,
   "metadata": {},
   "outputs": [
    {
     "data": {
      "text/html": [
       "<div>\n",
       "<style scoped>\n",
       "    .dataframe tbody tr th:only-of-type {\n",
       "        vertical-align: middle;\n",
       "    }\n",
       "\n",
       "    .dataframe tbody tr th {\n",
       "        vertical-align: top;\n",
       "    }\n",
       "\n",
       "    .dataframe thead th {\n",
       "        text-align: right;\n",
       "    }\n",
       "</style>\n",
       "<table border=\"1\" class=\"dataframe\">\n",
       "  <thead>\n",
       "    <tr style=\"text-align: right;\">\n",
       "      <th></th>\n",
       "      <th>prompt</th>\n",
       "      <th>iaa_score</th>\n",
       "    </tr>\n",
       "  </thead>\n",
       "  <tbody>\n",
       "    <tr>\n",
       "      <th>0</th>\n",
       "      <td>doom eternal, game concept art, veins and worm...</td>\n",
       "      <td>70.498428</td>\n",
       "    </tr>\n",
       "    <tr>\n",
       "      <th>1</th>\n",
       "      <td>a beautiful photorealistic painting of cemeter...</td>\n",
       "      <td>69.245010</td>\n",
       "    </tr>\n",
       "    <tr>\n",
       "      <th>2</th>\n",
       "      <td>doom eternal, evangelion, game concept art, ve...</td>\n",
       "      <td>74.754585</td>\n",
       "    </tr>\n",
       "    <tr>\n",
       "      <th>3</th>\n",
       "      <td>doom eternal, metro exodus, game concept art, ...</td>\n",
       "      <td>72.161064</td>\n",
       "    </tr>\n",
       "    <tr>\n",
       "      <th>4</th>\n",
       "      <td>industrial architecture by zack snyder, atlant...</td>\n",
       "      <td>63.639427</td>\n",
       "    </tr>\n",
       "  </tbody>\n",
       "</table>\n",
       "</div>"
      ],
      "text/plain": [
       "                                              prompt  iaa_score\n",
       "0  doom eternal, game concept art, veins and worm...  70.498428\n",
       "1  a beautiful photorealistic painting of cemeter...  69.245010\n",
       "2  doom eternal, evangelion, game concept art, ve...  74.754585\n",
       "3  doom eternal, metro exodus, game concept art, ...  72.161064\n",
       "4  industrial architecture by zack snyder, atlant...  63.639427"
      ]
     },
     "execution_count": 3,
     "metadata": {},
     "output_type": "execute_result"
    }
   ],
   "source": [
    "df = df[['prompt', 'iaa_score']]\n",
    "df.head()"
   ]
  },
  {
   "cell_type": "code",
   "execution_count": 4,
   "metadata": {},
   "outputs": [],
   "source": [
    "X_train,X_test,y_train,y_test=train_test_split(df['prompt'], df['iaa_score'], test_size=0.2)\n",
    "X_train = np.array(X_train)\n",
    "y_train = np.array(y_train)"
   ]
  },
  {
   "cell_type": "code",
   "execution_count": 5,
   "metadata": {},
   "outputs": [],
   "source": [
    "vocab_size=1000\n",
    "# Instantiate the tokenizer using the training data\n",
    "tokenizer = tf.keras.preprocessing.text.Tokenizer(num_words=vocab_size)\n",
    "tokenizer.fit_on_texts(df['prompt'])"
   ]
  },
  {
   "cell_type": "code",
   "execution_count": 6,
   "metadata": {},
   "outputs": [
    {
     "name": "stdout",
     "output_type": "stream",
     "text": [
      "(80000, 100)\n"
     ]
    }
   ],
   "source": [
    "def tokenize_to_ds(x_train):\n",
    "    tokenized = tokenizer.texts_to_sequences(x_train)\n",
    "    tokenized = tf.keras.preprocessing.sequence.pad_sequences(tokenized,maxlen=100)\n",
    "    return tokenized\n",
    "\n",
    "X_train_tokenized = tokenize_to_ds(X_train)\n",
    "print(X_train_tokenized.shape)"
   ]
  },
  {
   "cell_type": "code",
   "execution_count": 7,
   "metadata": {},
   "outputs": [],
   "source": [
    "vocab = {}\n",
    "for word, index in tokenizer.word_index.items():\n",
    "    if index <= vocab_size:\n",
    "        vocab[word] = index\n",
    "        \n",
    "# Write the vocab dictionary to a json file for loading in javascript\n",
    "with open('tokenizer_dictionary.json', 'w') as file:    \n",
    "    json.dump(vocab, file)"
   ]
  },
  {
   "cell_type": "code",
   "execution_count": 8,
   "metadata": {},
   "outputs": [],
   "source": [
    "model = tf.keras.Sequential([\n",
    "    tf.keras.Input(shape=(100,)),\n",
    "    tf.keras.layers.Embedding(\n",
    "        input_dim=vocab_size,\n",
    "        output_dim=64,\n",
    "        # Use masking to handle the variable sequence lengths\n",
    "        mask_zero=True),\n",
    "    tf.keras.layers.Bidirectional(tf.keras.layers.LSTM(64)),\n",
    "    tf.keras.layers.Dense(64, activation='relu'),\n",
    "    tf.keras.layers.Dense(1)\n",
    "])"
   ]
  },
  {
   "cell_type": "code",
   "execution_count": 9,
   "metadata": {},
   "outputs": [],
   "source": [
    "model.compile(loss=tf.keras.losses.MeanSquaredError(),\n",
    "              optimizer=tf.keras.optimizers.legacy.Adam(1e-4),\n",
    "              metrics=['mean_absolute_error'])"
   ]
  },
  {
   "cell_type": "code",
   "execution_count": 11,
   "metadata": {},
   "outputs": [
    {
     "name": "stdout",
     "output_type": "stream",
     "text": [
      "Epoch 1/10\n",
      "2000/2000 [==============================] - 58s 29ms/step - loss: 226.6132 - mean_absolute_error: 9.4365 - val_loss: 217.9935 - val_mean_absolute_error: 9.2663\n",
      "Epoch 2/10\n",
      "2000/2000 [==============================] - 57s 29ms/step - loss: 208.7591 - mean_absolute_error: 9.1303 - val_loss: 201.7051 - val_mean_absolute_error: 8.9671\n",
      "Epoch 3/10\n",
      "2000/2000 [==============================] - 61s 30ms/step - loss: 196.4622 - mean_absolute_error: 8.8682 - val_loss: 191.8030 - val_mean_absolute_error: 8.7925\n",
      "Epoch 4/10\n",
      "2000/2000 [==============================] - 59s 29ms/step - loss: 188.7776 - mean_absolute_error: 8.6928 - val_loss: 185.3565 - val_mean_absolute_error: 8.5775\n",
      "Epoch 5/10\n",
      "2000/2000 [==============================] - 55s 28ms/step - loss: 183.1721 - mean_absolute_error: 8.5597 - val_loss: 179.7248 - val_mean_absolute_error: 8.4328\n",
      "Epoch 6/10\n",
      "2000/2000 [==============================] - 56s 28ms/step - loss: 177.8111 - mean_absolute_error: 8.4170 - val_loss: 173.7526 - val_mean_absolute_error: 8.3483\n",
      "Epoch 7/10\n",
      "2000/2000 [==============================] - 59s 30ms/step - loss: 172.6856 - mean_absolute_error: 8.2805 - val_loss: 168.5052 - val_mean_absolute_error: 8.1697\n",
      "Epoch 8/10\n",
      "2000/2000 [==============================] - 58s 29ms/step - loss: 168.2863 - mean_absolute_error: 8.1579 - val_loss: 164.6077 - val_mean_absolute_error: 7.9594\n",
      "Epoch 9/10\n",
      "2000/2000 [==============================] - 61s 30ms/step - loss: 163.1788 - mean_absolute_error: 7.9865 - val_loss: 157.8590 - val_mean_absolute_error: 7.7186\n",
      "Epoch 10/10\n",
      "2000/2000 [==============================] - 63s 32ms/step - loss: 156.4132 - mean_absolute_error: 7.7112 - val_loss: 152.5249 - val_mean_absolute_error: 7.5449\n"
     ]
    }
   ],
   "source": [
    "history = model.fit(x=X_train_tokenized, y=y_train, epochs=10,\n",
    "                    validation_split=0.2,\n",
    "                    validation_steps=30)"
   ]
  },
  {
   "cell_type": "code",
   "execution_count": 17,
   "metadata": {},
   "outputs": [
    {
     "name": "stderr",
     "output_type": "stream",
     "text": [
      "/Users/justinblalock/miniconda3/envs/csefinalproject/lib/python3.11/site-packages/keras/src/engine/training.py:3103: UserWarning: You are saving your model as an HDF5 file via `model.save()`. This file format is considered legacy. We recommend using instead the native Keras format, e.g. `model.save('my_model.keras')`.\n",
      "  saving_api.save_model(\n"
     ]
    }
   ],
   "source": [
    "tfjs.converters.save_keras_model(model, 'Model_js')"
   ]
  },
  {
   "cell_type": "code",
   "execution_count": null,
   "metadata": {},
   "outputs": [],
   "source": []
  }
 ],
 "metadata": {
  "kernelspec": {
   "display_name": "csefinalproject",
   "language": "python",
   "name": "python3"
  },
  "language_info": {
   "codemirror_mode": {
    "name": "ipython",
    "version": 3
   },
   "file_extension": ".py",
   "mimetype": "text/x-python",
   "name": "python",
   "nbconvert_exporter": "python",
   "pygments_lexer": "ipython3",
   "version": "3.11.5"
  }
 },
 "nbformat": 4,
 "nbformat_minor": 2
}
